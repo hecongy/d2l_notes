{
 "cells": [
  {
   "cell_type": "markdown",
   "id": "d61d20c9-6596-42b7-b794-5610610ab064",
   "metadata": {},
   "source": [
    "# 第三章 线性神经网络"
   ]
  },
  {
   "cell_type": "markdown",
   "id": "996e9e8f-7d5e-416f-9400-48474dfc7c1e",
   "metadata": {},
   "source": [
    "## 3.1 线性回归"
   ]
  },
  {
   "cell_type": "markdown",
   "id": "d1826ee1-3f60-4bb4-8b31-51eba42df1dd",
   "metadata": {},
   "source": [
    "### 3.1.1 线性回归的基本元素\n",
    "\n",
    "#### 线性模型\n",
    "* 单样本 $\\hat{y} = w_1x_1 + ... + w_dx_d + b$\n",
    "\n",
    "* 单样本向量表示 $\\hat{y} = {\\textbf{w}}^T\\textbf{x} + b$\n",
    "\n",
    "* 多样本 $\\hat{\\textbf{y}} = \\textbf{X}\\textbf{w} + b$\n",
    "\n",
    "#### 损失函数\n",
    "量化目标的实际值与预测值之间的差距\n",
    "* 单样本 $l^{(i)}(\\textbf{w}, b) = \\frac{1}{2}({\\hat{y}}^{(i)}-y^{(i)})^2$\n",
    "\n",
    "* 多样本 $L(\\textbf{w},b) = \\frac{1}{n}\\sum\\limits_{i=1}^{n}l^{(i)}(\\textbf{w}, b) = \\frac{1}{n}\\sum\\limits_{i=1}^{n}\\frac{1}{2}({\\textbf{w}}^T{\\\\textbf{x}}^{(i)}+b-y^{(i)})^2$\n",
    "\n",
    "训练模型的目标：寻找一组参数$(\\textbf{w}^*,b^*)$，这组参数能**最小化在所有训练样本上的总损失**，即：\n",
    "\n",
    "$$\\textbf{w}^*,b^* = \\underset{\\textbf{w},b}{argmin} L(\\textbf{w},b)$$\n",
    "\n",
    "#### 解析解\n",
    "线性回归存在解析解：\n",
    "1. 将偏置$b$合并到参数$\\textbf{w}$中，即在包含所有参数的矩阵中附加一列\n",
    "2. 预测问题变为最小化${||\\textbf{y}-\\textbf{Xw}||}^2$\n",
    "3. 损失关于$\\textbf{w}$导数为0处为解析解：${\\textbf{w}}^*=({\\textbf{X}}^T\\textbf{X})^{-1}{\\textbf{X}}^T{\\textbf{y}}$\n",
    "\n",
    "#### 随机梯度下降\n",
    "并不是所有问题都存在解析解，所以需要随机梯度下降\n",
    "\n",
    "* 梯度下降 (gradient descent)\n",
    "    * 不断在损失函数递减的方向上（关于模型参数的导数）更新参数来降低误差\n",
    "    * 性能问题：每一次更新参数之前都需要遍历整个数据集\n",
    "* 随机梯度下降 (minibatch stochastic gradient descent)\n",
    "    * 在每次需要计算更新的时候抽取一小批样本\n",
    "    * 更新过程的数学表示：\n",
    "      $$(\\textbf{w},b)\\leftarrow(\\textbf{w},b)-\\frac{\\eta}{|B|}\\sum\\limits_{i\\in{B}}\\partial_{(\\textbf{w},b)}l^{(i)}(\\textbf{w}, b)$$\n",
    "        * $\\eta$: 学习率\n",
    "        * $|B|$: 每个小批量中的样本数，即批量大小\n",
    "        * $\\eta$和$|B|$需手动指定，称为**超参数（hyperparameter）**，**调参**是选择超参数的过程\n",
    "    * 展开：\n",
    "      $$\\textbf{w}\\leftarrow\\textbf{w}-\\frac{\\eta}{|B|}\\sum\\limits_{i\\in{B}}\\partial_{\\textbf{w}}l^{(i)}(\\textbf{w}, b)=\\textbf{w}-\\frac{\\eta}{|B|}\\sum\\limits_{i\\in{B}}{\\textbf{x}}^{(i)}({\\textbf{w}}^T{\\textbf{x}}^{(i)}+b-y^{(i)})$$\n",
    "\n",
    "      $$b\\leftarrow b-\\frac{\\eta}{|B|}\\sum\\limits_{i\\in{B}}\\partial_bl^{(i)}(\\textbf{w}, b)=b-\\frac{\\eta}{|B|}\\sum\\limits_{i\\in{B}}({\\textbf{w}}^T{\\textbf{x}}^{(i)}+b-y^{(i)})$$"
   ]
  },
  {
   "cell_type": "markdown",
   "id": "713198b7-ed89-4e4e-89e4-23f57cab9403",
   "metadata": {},
   "source": [
    "### 3.1.2 矢量化加速\n",
    "对计算进行矢量化从而利用**线性代数库**，而不是使用Python for循环\n",
    "\n",
    "示例："
   ]
  },
  {
   "cell_type": "code",
   "execution_count": 9,
   "id": "c5a4aa4b-2ec3-40c2-a320-ad7c7c8362d3",
   "metadata": {},
   "outputs": [
    {
     "data": {
      "text/plain": [
       "'0.25728 sec'"
      ]
     },
     "execution_count": 9,
     "metadata": {},
     "output_type": "execute_result"
    }
   ],
   "source": [
    "%matplotlib inline\n",
    "import math\n",
    "import time\n",
    "import numpy as np\n",
    "import torch\n",
    "\n",
    "class Timer: #@save\n",
    "    def __init__(self):\n",
    "        self.times = []\n",
    "        self.start()\n",
    "\n",
    "    def start(self):\n",
    "        \"\"\"启动计时器\"\"\"\n",
    "        self.tik = time.time()\n",
    "\n",
    "    def stop(self):\n",
    "        \"\"\"停止计时器并将时间记录在列表中\"\"\"\n",
    "        self.times.append(time.time() - self.tik)\n",
    "        return self.times[-1]\n",
    "\n",
    "    def avg(self):\n",
    "        \"\"\"返回平时时间\"\"\"\n",
    "        return sum(self.times) / len(self.times)\n",
    "\n",
    "    def sum(self):\n",
    "        \"\"\"返回时间总和\"\"\"\n",
    "        return sum(self.times)\n",
    "\n",
    "    def cumsum(self):\n",
    "        \"\"\"返回累计时间\"\"\"\n",
    "        return np.array(self.times).cumsum().tolist()\n",
    "\n",
    "n = 10000\n",
    "a = torch.ones([n])\n",
    "b = torch.ones([n])\n",
    "c = torch.zeros(n)\n",
    "timer = Timer()\n",
    "for i in range(n):\n",
    "    c[i] = a[i] + b[i]\n",
    "f'{timer.stop():.5f} sec'"
   ]
  },
  {
   "cell_type": "code",
   "execution_count": 8,
   "id": "44911d08-7187-4670-9819-6f9e8850797e",
   "metadata": {},
   "outputs": [
    {
     "data": {
      "text/plain": [
       "'0.00057 sec'"
      ]
     },
     "execution_count": 8,
     "metadata": {},
     "output_type": "execute_result"
    }
   ],
   "source": [
    "timer.start()\n",
    "d = a + b\n",
    "f'{timer.stop():.5f} sec'"
   ]
  },
  {
   "cell_type": "markdown",
   "id": "33ec595e-455a-4df9-8f86-e28923c48efc",
   "metadata": {},
   "source": [
    "### 3.1.2 正态分布与平方损失\n",
    "\n",
    "#### 正态分布 normal distribution\n",
    "* 也称为高斯分布（Gaussian distribution）\n",
    "* 随机变量$x$具有均值$\\mu$和方差${\\sigma}^2$，其正态分布概率密度函数如下：\n",
    "$$p(x)=\\frac{1}{\\sqrt{2\\pi{\\sigma}^2}}\\text{exp}(-\\frac{1}{2{\\sigma}^2}(x-\\mu)^2)$$"
   ]
  },
  {
   "cell_type": "code",
   "execution_count": 10,
   "id": "e66825f0-4867-4e02-b32b-ddbe09c88f62",
   "metadata": {},
   "outputs": [],
   "source": [
    "def normal(x, mu, sigma):\n",
    "    p = 1 / math.sqrt(2 * math.pi * sigma**2)\n",
    "    return p * np.exp(-0.5 / sigma**2 * (x - mu)**2)"
   ]
  },
  {
   "cell_type": "code",
   "execution_count": 11,
   "id": "31590264-112c-4a76-a745-28f42572c2b3",
   "metadata": {},
   "outputs": [],
   "source": [
    "# 再次使用numpy进行可视化\n",
    "x = np.arange(-7, 7, 0.01)\n",
    "\n",
    "# 均值和标准差对\n",
    "params = [(0, 1), (0, 2), (3, 1)]"
   ]
  },
  {
   "cell_type": "code",
   "execution_count": null,
   "id": "590d2f04-1e90-4fcb-9d7e-b55365de18b3",
   "metadata": {},
   "outputs": [],
   "source": []
  }
 ],
 "metadata": {
  "kernelspec": {
   "display_name": "Python 3 (ipykernel)",
   "language": "python",
   "name": "python3"
  },
  "language_info": {
   "codemirror_mode": {
    "name": "ipython",
    "version": 3
   },
   "file_extension": ".py",
   "mimetype": "text/x-python",
   "name": "python",
   "nbconvert_exporter": "python",
   "pygments_lexer": "ipython3",
   "version": "3.13.7"
  }
 },
 "nbformat": 4,
 "nbformat_minor": 5
}
